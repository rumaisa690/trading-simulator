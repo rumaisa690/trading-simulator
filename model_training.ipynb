{
 "cells": [
  {
   "cell_type": "code",
   "execution_count": null,
   "metadata": {},
   "outputs": [],
   "source": [
    "# making all the needed imports\n",
    "import numpy as np\n",
    "import yfinance as yf\n",
    "from sklearn.preprocessing import MinMaxScaler\n",
    "from tensorflow.keras.models import Sequential\n",
    "from tensorflow.keras.initializers import GlorotUniform\n",
    "from tensorflow.keras.layers import LSTM, Dense\n",
    "from google.colab import files\n",
    "import pickle\n"
   ]
  },
  {
   "cell_type": "code",
   "execution_count": null,
   "metadata": {},
   "outputs": [],
   "source": [
    "# downloading stock data\n",
    "data = yf.download('AAPL', start='1990-01-01', end='2024-01-01')\n",
    "data = data[['Close']]\n",
    "print(\"done downloading data\")\n",
    "\n",
    "# scaling data\n",
    "scaler = MinMaxScaler(feature_range=(0, 1))\n",
    "scaled_data = scaler.fit_transform(data)\n",
    "print(\"done scaling\")\n",
    "\n",
    "# preprocessing data\n",
    "X, y = [], []\n",
    "for i in range(60, len(scaled_data)):\n",
    "    X.append(scaled_data[i-60:i, 0])\n",
    "    y.append(scaled_data[i, 0])\n",
    "X, y = np.array(X), np.array(y)\n",
    "X = np.reshape(X, (X.shape[0], X.shape[1], 1))\n",
    "print(\"done preprocessing\")\n",
    "\n",
    "# building & training model\n",
    "# I decided to use LSTM since it works well with Time Series Analysis\n",
    "model = Sequential()\n",
    "\n",
    "# Adding LSTM layers with specified initializers so I can set it to known values\n",
    "model.add(LSTM(units= 50, return_sequences= True, input_shape= (X.shape[1], 1), kernel_initializer= GlorotUniform()))\n",
    "model.add(LSTM(units= 50, kernel_initializer= GlorotUniform()))\n",
    "model.add(Dense(1, kernel_initializer= GlorotUniform()))\n",
    "\n",
    "model.compile(optimizer='adam', loss='mean_squared_error')\n",
    "model.fit(X, y, epochs=10, batch_size=32)\n",
    "print(\"done training & fitting\")\n",
    "\n",
    "# saving model & scaler\n",
    "model.save('trading_model.h5')\n",
    "with open('scaler.pkl', 'wb') as f:\n",
    "    pickle.dump(scaler, f)\n",
    "\n",
    "files.download('trading_model.h5')\n",
    "files.download('scaler.pkl')\n",
    "print(\"done saving files\")"
   ]
  }
 ],
 "metadata": {
  "language_info": {
   "name": "python"
  }
 },
 "nbformat": 4,
 "nbformat_minor": 2
}
